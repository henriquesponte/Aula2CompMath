{
 "cells": [
  {
   "cell_type": "markdown",
   "metadata": {},
   "source": [
    "Índice"
   ]
  },
  {
   "cell_type": "markdown",
   "metadata": {},
   "source": [
    "- [Descrição da Atividade](#Descrição-da-Atividade)"
   ]
  },
  {
   "cell_type": "code",
   "execution_count": 1,
   "metadata": {},
   "outputs": [],
   "source": [
    "#pathFileImages = 'C:/Users/claud/OneDrive/Documentos/Figuras Matemática Computacional/Erros/'\n",
    "\n",
    "pathFileImages = 'C:/Users/claud/Dropbox/RepoGit/disciplina/temp/MatematicaComputacionalUFPA/Noções Básicas sobre Erros/Figuras Representação/'\n",
    "\n",
    "\n",
    "from IPython.display import Image\n",
    "from IPython.display import HTML\n",
    "import matplotlib.pyplot as plt\n",
    "import numpy as np\n",
    "import numpy.random as npr\n",
    "import math"
   ]
  },
  {
   "cell_type": "markdown",
   "metadata": {},
   "source": [
    "# Descrição da Atividade"
   ]
  },
  {
   "cell_type": "code",
   "execution_count": 2,
   "metadata": {},
   "outputs": [
    {
     "name": "stdout",
     "output_type": "stream",
     "text": [
      "\n",
      "Truncamento\n",
      "1.25 = 0.125 x 10¹\n",
      "10.053 = 0.100 x 10²\n",
      "-238.15 = 0.238 x 10³\n",
      "2.71828... = 0.271 x 10¹\n",
      "0.000007 = Underflow\n",
      "718235.82 = Overflow\n",
      "\n",
      "Arredondamento\n",
      "1.25 = 0.126 x 10¹\n",
      "10.053 = 0.101 x 10²\n",
      "-238.15 = 0.239 x 10³\n",
      "2.71828... = 0.272 x 10¹\n",
      "0.000007 = Underflow\n",
      "718235.82 = Overflow\n"
     ]
    }
   ],
   "source": [
    "print(\"\\nTruncamento\")\n",
    "print('1.25 = 0.125 x 10¹')\n",
    "print('10.053 = 0.100 x 10²')\n",
    "print('-238.15 = 0.238 x 10³')\n",
    "print('2.71828... = 0.271 x 10¹')\n",
    "print('0.000007 = Underflow')\n",
    "print('718235.82 = Overflow')\n",
    "print(\"\\nArredondamento\")\n",
    "print('1.25 = 0.126 x 10¹')\n",
    "print('10.053 = 0.101 x 10²')\n",
    "print('-238.15 = 0.239 x 10³')\n",
    "print('2.71828... = 0.272 x 10¹')\n",
    "print('0.000007 = Underflow')\n",
    "print('718235.82 = Overflow')"
   ]
  },
  {
   "cell_type": "code",
   "execution_count": 81,
   "metadata": {},
   "outputs": [],
   "source": [
    "def truncamento(numero, limite, casas):\n",
    "    if (numero < 0):\n",
    "        numero = numero * (-1)\n",
    "    count = 0\n",
    "    if (numero >= 1):\n",
    "        while (numero >= 1 and count < limite):\n",
    "            numero = numero/10\n",
    "            count += 1\n",
    "            \n",
    "        if (numero >= 1):\n",
    "            print(\"Deu overflow\\n\")\n",
    "        elif (numero < 0.0):\n",
    "            print(\"Deu underflow\\n\")\n",
    "        else:\n",
    "            print(\"Número truncado: \")\n",
    "            s = '{}'.format(numero)\n",
    "            i, p, d = s.partition('.')\n",
    "            print('.'.join([i, (d+'0'*casas)[:casas]]) + \" *10^\" + str(count))\n",
    "    else:\n",
    "        while(numero < 0.1 and count < limite):\n",
    "            numero = numero * 10\n",
    "            count += 1\n",
    "            \n",
    "        if (numero >= 1):\n",
    "            print(\"Deu overflow\\n\")\n",
    "        elif (numero < 0.0):\n",
    "            print(\"Deu underflow\\n\")\n",
    "        else:\n",
    "            print(\"Número truncado: \")\n",
    "            s = '{}'.format(numero)\n",
    "            i, p, d = s.partition('.')\n",
    "            print('.'.join([i, (d+'0'*casas)[:casas]]) + \" *10^\" + str(-count))"
   ]
  },
  {
   "cell_type": "code",
   "execution_count": 83,
   "metadata": {},
   "outputs": [
    {
     "name": "stdout",
     "output_type": "stream",
     "text": [
      "Número truncado: \n",
      "0.9000 *10^4\n"
     ]
    }
   ],
   "source": [
    "truncamento(9000, 4, 4)"
   ]
  },
  {
   "cell_type": "code",
   "execution_count": 92,
   "metadata": {},
   "outputs": [],
   "source": [
    "def arredondamento(numero, limite, casas):\n",
    "    if (numero < 0):\n",
    "        numero = numero * (-1)\n",
    "    count = 0\n",
    "    if (numero >= 1):\n",
    "        while (numero >= 1 and count < limite):\n",
    "            numero = numero/10\n",
    "            count += 1\n",
    "            \n",
    "        if (numero >= 1):\n",
    "            print(\"Deu overflow\\n\")\n",
    "        elif (numero < 0.0):\n",
    "            print(\"Deu underflow\\n\")\n",
    "        else:\n",
    "            numero = np.around(numero, casas)\n",
    "            print(\"Número arredondado: \")\n",
    "            s = '{}'.format(numero)\n",
    "            i, p, d = s.partition('.')\n",
    "            print('.'.join([i, (d+'0'*casas)[:casas]]) + \" *10^\" + str(count))\n",
    "    else:\n",
    "        while(numero < 0.1 and count < limite):\n",
    "            numero = numero * 10\n",
    "            count += 1\n",
    "            \n",
    "        if (numero >= 1):\n",
    "            print(\"Deu overflow\\n\")\n",
    "        elif (numero < 0.0):\n",
    "            print(\"Deu underflow\\n\")\n",
    "        else:\n",
    "            numero = np.around(numero, casas)\n",
    "            print(\"Número arredondado: \")\n",
    "            s = '{}'.format(numero)\n",
    "            i, p, d = s.partition('.')\n",
    "            print('.'.join([i, (d+'0'*casas)[:casas]]) + \" *10^\" + str(-count))"
   ]
  },
  {
   "cell_type": "code",
   "execution_count": null,
   "metadata": {},
   "outputs": [],
   "source": []
  },
  {
   "cell_type": "code",
   "execution_count": 94,
   "metadata": {},
   "outputs": [
    {
     "name": "stdout",
     "output_type": "stream",
     "text": [
      "Número arredondado: \n",
      "0.736 *10^2\n"
     ]
    }
   ],
   "source": [
    "arredondamento(73.59, 4, 3)"
   ]
  },
  {
   "cell_type": "code",
   "execution_count": null,
   "metadata": {},
   "outputs": [],
   "source": []
  },
  {
   "cell_type": "code",
   "execution_count": 52,
   "metadata": {},
   "outputs": [],
   "source": []
  },
  {
   "cell_type": "code",
   "execution_count": 54,
   "metadata": {},
   "outputs": [
    {
     "data": {
      "text/plain": [
       "'20.562'"
      ]
     },
     "execution_count": 54,
     "metadata": {},
     "output_type": "execute_result"
    }
   ],
   "source": []
  }
 ],
 "metadata": {
  "anaconda-cloud": {},
  "kernelspec": {
   "display_name": "Python 3",
   "language": "python",
   "name": "python3"
  },
  "language_info": {
   "codemirror_mode": {
    "name": "ipython",
    "version": 3
   },
   "file_extension": ".py",
   "mimetype": "text/x-python",
   "name": "python",
   "nbconvert_exporter": "python",
   "pygments_lexer": "ipython3",
   "version": "3.6.5"
  }
 },
 "nbformat": 4,
 "nbformat_minor": 2
}
